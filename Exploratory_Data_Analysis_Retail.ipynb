{
  "nbformat": 4,
  "nbformat_minor": 0,
  "metadata": {
    "colab": {
      "provenance": [],
      "authorship_tag": "ABX9TyOdNeTrpR03pIXSOKLF8yAA",
      "include_colab_link": true
    },
    "kernelspec": {
      "name": "python3",
      "display_name": "Python 3"
    },
    "language_info": {
      "name": "python"
    }
  },
  "cells": [
    {
      "cell_type": "markdown",
      "metadata": {
        "id": "view-in-github",
        "colab_type": "text"
      },
      "source": [
        "<a href=\"https://colab.research.google.com/github/manshikabdal/prediction-using-supervised-ML/blob/main/Exploratory_Data_Analysis_Retail.ipynb\" target=\"_parent\"><img src=\"https://colab.research.google.com/assets/colab-badge.svg\" alt=\"Open In Colab\"/></a>"
      ]
    },
    {
      "cell_type": "markdown",
      "source": [
        "Task 3 :- Exploratory Data Analysis - Retail"
      ],
      "metadata": {
        "id": "qX6A69BZgg5N"
      }
    },
    {
      "cell_type": "markdown",
      "source": [
        "Super Store Dashboard"
      ],
      "metadata": {
        "id": "XtryANW1gag4"
      }
    },
    {
      "cell_type": "markdown",
      "source": [
        "Picture 1:- A complete overview of the Sales in The United States."
      ],
      "metadata": {
        "id": "EMeq2WjDgnZ8"
      }
    },
    {
      "cell_type": "markdown",
      "source": [
        "![picture](https://drive.google.com/uc?id=1YALKmRbR-MJrgU9QWSW6dQtyWNTShXdl)"
      ],
      "metadata": {
        "id": "VoETP9dccoPn"
      }
    },
    {
      "cell_type": "markdown",
      "source": [
        "Picture 2 :- Sales overview in the central region of United States."
      ],
      "metadata": {
        "id": "jWT8fqxog6Vz"
      }
    },
    {
      "cell_type": "markdown",
      "source": [
        "![picture](https://drive.google.com/uc?id=1fI7oJqVIIKWxuaYAX23zf0Y0ChyJ-Ntr)"
      ],
      "metadata": {
        "id": "pWLI44zRYKQQ"
      }
    },
    {
      "cell_type": "markdown",
      "source": [
        "Picture 3 :- Sales overview in the south region of the United States."
      ],
      "metadata": {
        "id": "aqvlXSFChGq9"
      }
    },
    {
      "cell_type": "markdown",
      "source": [
        "![picture](https://drive.google.com/uc?id=1oem7C1na557T--NUFXf-S_-WhQDYyued)"
      ],
      "metadata": {
        "id": "DkKpVy1qe7L6"
      }
    },
    {
      "cell_type": "markdown",
      "source": [
        "Picture 4:- Sales overview in the East region of United States."
      ],
      "metadata": {
        "id": "RQr5sfBYhQun"
      }
    },
    {
      "cell_type": "markdown",
      "source": [
        "![picture](https://drive.google.com/uc?id=1ub4VCj3CE2bKMRR6j8djEsprCNKQVEn2)"
      ],
      "metadata": {
        "id": "wNzhurkafk41"
      }
    },
    {
      "cell_type": "markdown",
      "source": [
        "Picture 5:- Sales overview in the West region of United States."
      ],
      "metadata": {
        "id": "ZWCOtegmhabF"
      }
    },
    {
      "cell_type": "markdown",
      "source": [
        "![picture](https://drive.google.com/uc?id=17dSb4H7aJQ5hBS3dEz8kayoCY7a8NOJJ)"
      ],
      "metadata": {
        "id": "RrLpGsJpgATK"
      }
    }
  ]
}